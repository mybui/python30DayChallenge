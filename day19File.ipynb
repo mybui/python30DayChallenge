{
 "cells": [
  {
   "cell_type": "markdown",
   "metadata": {},
   "source": [
    "1. Write a function which count number of lines and number of words from a text. All the files are in data the folder:\n",
    "\n",
    "Read obama_speech.txt file and count number of lines and now of words"
   ]
  },
  {
   "cell_type": "code",
   "execution_count": 304,
   "metadata": {},
   "outputs": [
    {
     "data": {
      "text/plain": [
       "['My fellow citizens: I stand here today humbled by the task before us, grateful for the trust you have bestowed, mindful of the sacrifices borne by our ancestors. I thank President Bush for his service to our nation, as well as the generosity and cooperation he has shown throughout this transition.',\n",
       " 'Forty-four Americans have now taken the presidential oath. The words have been spoken during rising tides of prosperity and the still waters of peace. Yet, every so often the oath is taken amidst gathering clouds and raging storms. At these moments, America has carried on not simply because of the skill or vision of those in high office, but because We the People have remained faithful to the ideals of our forbearers, and true to our founding documents.',\n",
       " 'So it has been. So it must be with this generation of Americans.',\n",
       " '',\n",
       " 'That we are in the midst of crisis is now well understood. Our nation is at war, against a far-reaching network of violence and hatred. Our economy is badly weakened, a consequence of greed and irresponsibility on the part of some, but also our collective failure to make hard choices and prepare the nation for a new age. Homes have been lost; jobs shed; businesses shuttered. Our health care is too costly; our schools fail too many; and each day brings further evidence that the ways we use energy strengthen our adversaries and threaten our planet.',\n",
       " '',\n",
       " \"These are the indicators of crisis, subject to data and statistics. Less measurable but no less profound is a sapping of confidence across our land - a nagging fear that America's decline is inevitable, and that the next generation must lower its sights.\",\n",
       " '',\n",
       " 'Today I say to you that the challenges we face are real. They are serious and they are many.',\n",
       " '',\n",
       " 'They will not be met easily or in a short span of time. But know this, America - they will be met. On this day, we gather because we have chosen hope over fear, unity of purpose over conflict and discord.',\n",
       " '',\n",
       " 'On this day, we come to proclaim an end to the petty grievances and false promises, the recriminations and worn out dogmas, that for far too long have strangled our politics.',\n",
       " '',\n",
       " 'We remain a young nation, but in the words of Scripture, the time has come to set aside childish things. The time has come to reaffirm our enduring spirit; to choose our better history; to carry forward that precious gift, that noble idea, passed on from generation to generation: the God-given promise that all are equal, all are free, and all deserve a chance to pursue their full measure of happiness.',\n",
       " '',\n",
       " 'In reaffirming the greatness of our nation, we understand that greatness is never a given. It must be earned. Our journey has never been one of short-cuts or settling for less. It has not been the path for the faint-hearted - for those who prefer leisure over work, or seek only the pleasures of riches and fame. Rather, it has been the risk-takers, the doers, the makers of things - some celebrated but more often men and women obscure in their labor, who have carried us up the long, rugged path towards prosperity and freedom.',\n",
       " '',\n",
       " 'For us, they packed up their few worldly possessions and traveled across oceans in search of a new life.',\n",
       " '',\n",
       " 'For us, they toiled in sweatshops and settled the West; endured the lash of the whip and plowed the hard earth.',\n",
       " 'For us, they fought and died, in places like Concord and Gettysburg; Normandy and Khe Sahn. Time and again these men and women struggled and sacrificed and worked till their hands were raw so that we might live a better life. They saw America as bigger than the sum of our individual ambitions; greater than all the differences of birth or wealth or faction.',\n",
       " '',\n",
       " 'This is the journey we continue today. We remain the most prosperous, powerful nation on Earth. Our workers are no less productive than when this crisis began. Our minds are no less inventive, our goods and services no less needed than they were last week or last month or last year. Our capacity remains undiminished. But our time of standing pat, of protecting narrow interests and putting off unpleasant decisions - that time has surely passed. Starting today, we must pick ourselves up, dust ourselves off, and begin again the work of remaking America.',\n",
       " '',\n",
       " \"For everywhere we look, there is work to be done. The state of the economy calls for action, bold and swift, and we will act - not only to create new jobs, but to lay a new foundation for growth. We will build the roads and bridges, the electric grids and digital lines that feed our commerce and bind us together. We will restore science to its rightful place, and wield technology's wonders to raise health care's quality and lower its cost. We will harness the sun and the winds and the soil to fuel our cars and run our factories. And we will transform our schools and colleges and universities to meet the demands of a new age. All this we can do. And all this we will do.\",\n",
       " '',\n",
       " 'Now, there are some who question the scale of our ambitions - who suggest that our system cannot tolerate too many big plans. Their memories are short. For they have forgotten what this country has already done; what free men and women can achieve when imagination is joined to common purpose, and necessity to courage.',\n",
       " '',\n",
       " \"What the cynics fail to understand is that the ground has shifted beneath them - that the stale political arguments that have consumed us for so long no longer apply. The question we ask today is not whether our government is too big or too small, but whether it works - whether it helps families find jobs at a decent wage, care they can afford, a retirement that is dignified. Where the answer is yes, we intend to move forward. Where the answer is no, programs will end. And those of us who manage the public's dollars will be held to account - to spend wisely, reform bad habits, and do our business in the light of day - because only then can we restore the vital trust between a people and their government.\",\n",
       " '',\n",
       " 'Nor is the question before us whether the market is a force for good or ill. Its power to generate wealth and expand freedom is unmatched, but this crisis has reminded us that without a watchful eye, the market can spin out of control - and that a nation cannot prosper long when it favors only the prosperous. The success of our economy has always depended not just on the size of our Gross Domestic Product, but on the reach of our prosperity; on our ability to extend opportunity to every willing heart - not out of charity, but because it is the surest route to our common good.',\n",
       " '',\n",
       " \"As for our common defense, we reject as false the choice between our safety and our ideals. Our Founding Fathers, faced with perils we can scarcely imagine, drafted a charter to assure the rule of law and the rights of man, a charter expanded by the blood of generations. Those ideals still light the world, and we will not give them up for expedience's sake. And so to all other peoples and governments who are watching today, from the grandest capitals to the small village where my father was born: know that America is a friend of each nation and every man, woman, and child who seeks a future of peace and dignity, and that we are ready to lead once more.\",\n",
       " '',\n",
       " 'Recall that earlier generations faced down fascism and communism not just with missiles and tanks, but with sturdy alliances and enduring convictions. They understood that our power alone cannot protect us, nor does it entitle us to do as we please. Instead, they knew that our power grows through its prudent use; our security emanates from the justness of our cause, the force of our example, the tempering qualities of humility and restraint.',\n",
       " '',\n",
       " 'We are the keepers of this legacy. Guided by these principles once more, we can meet those new threats that demand even greater effort - even greater cooperation and understanding between nations. We will begin to responsibly leave Iraq to its people, and forge a hard-earned peace in Afghanistan. With old friends and former foes, we will work tirelessly to lessen the nuclear threat, and roll back the specter of a warming planet. We will not apologize for our way of life, nor will we waver in its defense, and for those who seek to advance their aims by inducing terror and slaughtering innocents, we say to you now that our spirit is stronger and cannot be broken; you cannot outlast us, and we will defeat you.',\n",
       " '',\n",
       " 'For we know that our patchwork heritage is a strength, not a weakness. We are a nation of Christians and Muslims, Jews and Hindus - and non-believers. We are shaped by every language and culture, drawn from every end of this Earth; and because we have tasted the bitter swill of civil war and segregation, and emerged from that dark chapter stronger and more united, we cannot help but believe that the old hatreds shall someday pass; that the lines of tribe shall soon dissolve; that as the world grows smaller, our common humanity shall reveal itself; and that America must play its role in ushering in a new era of peace.',\n",
       " '',\n",
       " 'To the Muslim world, we seek a new way forward, based on mutual interest and mutual respect.',\n",
       " '',\n",
       " \"To those leaders around the globe who seek to sow conflict, or blame their society's ills on the West - know that your people will judge you on what you can build, not what you destroy. To those who cling to power through corruption and deceit and the silencing of dissent, know that you are on the wrong side of history; but that we will extend a hand if you are willing to unclench your fist.\",\n",
       " '',\n",
       " \"To the people of poor nations, we pledge to work alongside you to make your farms flourish and let clean waters flow; to nourish starved bodies and feed hungry minds. And to those nations like ours that enjoy relative plenty, we say we can no longer afford indifference to suffering outside our borders; nor can we consume the world's resources without regard to effect. For the world has changed, and we must change with it.\",\n",
       " '',\n",
       " 'As we consider the road that unfolds before us, we remember with humble gratitude those brave Americans who, at this very hour, patrol far-off deserts and distant mountains. They have something to tell us today, just as the fallen heroes who lie in Arlington whisper through the ages.',\n",
       " '',\n",
       " 'We honor them not only because they are guardians of our liberty, but because they embody the spirit of service; a willingness to find meaning in something greater than themselves. And yet, at this moment - a moment that will define a generation - it is precisely this spirit that must inhabit us all.',\n",
       " '',\n",
       " \"For as much as government can do and must do, it is ultimately the faith and determination of the American people upon which this nation relies. It is the kindness to take in a stranger when the levees break, the selflessness of workers who would rather cut their hours than see a friend lose their job which sees us through our darkest hours. It is the firefighter's courage to storm a stairway filled with smoke, but also a parent's willingness to nurture a child, that finally decides our fate.\",\n",
       " '',\n",
       " 'Our challenges may be new. The instruments with which we meet them may be new. But those values upon which our success depends - hard work and honesty, courage and fair play, tolerance and curiosity, loyalty and patriotism - these things are old. These things are true. They have been the quiet force of progress throughout our history. What is demanded then is a return to these truths. What is required of us now is a new era of responsibility - a recognition, on the part of every American, that we have duties to ourselves, our nation, and the world, duties that we do not grudgingly accept but rather seize gladly, firm in the knowledge that there is nothing so satisfying to the spirit, so defining of our character, than giving our all to a difficult task.',\n",
       " '',\n",
       " 'This is the price and the promise of citizenship.',\n",
       " '',\n",
       " 'This is the source of our confidence - the knowledge that God calls on us to shape an uncertain destiny.',\n",
       " '',\n",
       " 'This is the meaning of our liberty and our creed - why men and women and children of every race and every faith can join in celebration across this magnificent mall, and why a man whose father less than sixty years ago might not have been served at a local restaurant can now stand before you to take a most sacred oath.',\n",
       " '',\n",
       " \"So let us mark this day with remembrance, of who we are and how far we have traveled. In the year of America's birth, in the coldest of months, a small band of patriots huddled by dying campfires on the shores of an icy river. The capital was abandoned. The enemy was advancing. The snow was stained with blood. At a moment when the outcome of our revolution was most in doubt, the father of our nation ordered these words be read to the people:\",\n",
       " '',\n",
       " '\"Let it be told to the future world...that in the depth of winter, when nothing but hope and virtue could survive...that the city and the country, alarmed at one common danger, came forth to meet [it].\"',\n",
       " '',\n",
       " \"America. In the face of our common dangers, in this winter of our hardship, let us remember these timeless words. With hope and virtue, let us brave once more the icy currents, and endure what storms may come. Let it be said by our children's children that when we were tested we refused to let this journey end, that we did not turn back nor did we falter; and with eyes fixed on the horizon and God's grace upon us, we carried forth that great gift of freedom and delivered it safely to future generations.\"]"
      ]
     },
     "execution_count": 304,
     "metadata": {},
     "output_type": "execute_result"
    }
   ],
   "source": [
    "with open('obama_speech.txt') as f:\n",
    "    lines = f.read().splitlines()\n",
    "\n",
    "lines"
   ]
  },
  {
   "cell_type": "code",
   "execution_count": 2,
   "metadata": {
    "scrolled": true
   },
   "outputs": [
    {
     "data": {
      "text/plain": [
       "66"
      ]
     },
     "execution_count": 2,
     "metadata": {},
     "output_type": "execute_result"
    }
   ],
   "source": [
    "len(lines)"
   ]
  },
  {
   "cell_type": "code",
   "execution_count": 3,
   "metadata": {},
   "outputs": [],
   "source": [
    "noWords = 0\n",
    "for i in lines:\n",
    "    noWords += len(list(i.split(' ')))\n",
    "    if list(i.split(' ')) == ['']:\n",
    "        continue"
   ]
  },
  {
   "cell_type": "code",
   "execution_count": 4,
   "metadata": {},
   "outputs": [
    {
     "data": {
      "text/plain": [
       "2431"
      ]
     },
     "execution_count": 4,
     "metadata": {},
     "output_type": "execute_result"
    }
   ],
   "source": [
    "noWords"
   ]
  },
  {
   "cell_type": "markdown",
   "metadata": {},
   "source": [
    "2. Read the countries_data.json data file in data directory, create a function which find the ten most spoken languages"
   ]
  },
  {
   "cell_type": "code",
   "execution_count": 108,
   "metadata": {},
   "outputs": [],
   "source": [
    "import json"
   ]
  },
  {
   "cell_type": "code",
   "execution_count": 285,
   "metadata": {},
   "outputs": [],
   "source": [
    "def mostSpokenLang(filename, no):\n",
    "    with open(filename) as data:\n",
    "        dataDict = json.load(data)\n",
    "    listToDo = []\n",
    "    for i in dataDict:\n",
    "        listToDo += list(i['languages'])\n",
    "    output = []\n",
    "    for n in set(listToDo):\n",
    "        output += [(listToDo.count(n), n)]\n",
    "    return (sorted(output, reverse=True)[:no])"
   ]
  },
  {
   "cell_type": "code",
   "execution_count": 286,
   "metadata": {},
   "outputs": [
    {
     "data": {
      "text/plain": [
       "[(91, 'English'),\n",
       " (45, 'French'),\n",
       " (25, 'Arabic'),\n",
       " (24, 'Spanish'),\n",
       " (9, 'Russian'),\n",
       " (9, 'Portuguese'),\n",
       " (8, 'Dutch'),\n",
       " (7, 'German'),\n",
       " (5, 'Chinese'),\n",
       " (4, 'Swahili')]"
      ]
     },
     "execution_count": 286,
     "metadata": {},
     "output_type": "execute_result"
    }
   ],
   "source": [
    "mostSpokenLang('countries_data.json', 10)"
   ]
  },
  {
   "cell_type": "markdown",
   "metadata": {},
   "source": [
    "3. Read the countries_data.json data file in data directory, create a function which create the ten most populated countries"
   ]
  },
  {
   "cell_type": "code",
   "execution_count": 263,
   "metadata": {},
   "outputs": [],
   "source": [
    "def mostPopulatedCtr(filename):\n",
    "    with open(filename) as data:\n",
    "        dataDict = json.load(data)\n",
    "    listOutput = []\n",
    "    for i in dataDict:\n",
    "        dictOutput = {}\n",
    "        dictOutput['country'] = i['name']\n",
    "        dictOutput['population'] = i['population']\n",
    "        listOutput += [dictOutput]\n",
    "    return listOutput"
   ]
  },
  {
   "cell_type": "code",
   "execution_count": 264,
   "metadata": {},
   "outputs": [
    {
     "data": {
      "text/plain": [
       "[{'country': 'Afghanistan', 'population': 27657145},\n",
       " {'country': 'Åland Islands', 'population': 28875},\n",
       " {'country': 'Albania', 'population': 2886026},\n",
       " {'country': 'Algeria', 'population': 40400000},\n",
       " {'country': 'American Samoa', 'population': 57100},\n",
       " {'country': 'Andorra', 'population': 78014},\n",
       " {'country': 'Angola', 'population': 25868000},\n",
       " {'country': 'Anguilla', 'population': 13452},\n",
       " {'country': 'Antarctica', 'population': 1000},\n",
       " {'country': 'Antigua and Barbuda', 'population': 86295},\n",
       " {'country': 'Argentina', 'population': 43590400},\n",
       " {'country': 'Armenia', 'population': 2994400},\n",
       " {'country': 'Aruba', 'population': 107394},\n",
       " {'country': 'Australia', 'population': 24117360},\n",
       " {'country': 'Austria', 'population': 8725931},\n",
       " {'country': 'Azerbaijan', 'population': 9730500},\n",
       " {'country': 'Bahamas', 'population': 378040},\n",
       " {'country': 'Bahrain', 'population': 1404900},\n",
       " {'country': 'Bangladesh', 'population': 161006790},\n",
       " {'country': 'Barbados', 'population': 285000},\n",
       " {'country': 'Belarus', 'population': 9498700},\n",
       " {'country': 'Belgium', 'population': 11319511},\n",
       " {'country': 'Belize', 'population': 370300},\n",
       " {'country': 'Benin', 'population': 10653654},\n",
       " {'country': 'Bermuda', 'population': 61954},\n",
       " {'country': 'Bhutan', 'population': 775620},\n",
       " {'country': 'Bolivia (Plurinational State of)', 'population': 10985059},\n",
       " {'country': 'Bonaire, Sint Eustatius and Saba', 'population': 17408},\n",
       " {'country': 'Bosnia and Herzegovina', 'population': 3531159},\n",
       " {'country': 'Botswana', 'population': 2141206},\n",
       " {'country': 'Bouvet Island', 'population': 0},\n",
       " {'country': 'Brazil', 'population': 206135893},\n",
       " {'country': 'British Indian Ocean Territory', 'population': 3000},\n",
       " {'country': 'United States Minor Outlying Islands', 'population': 300},\n",
       " {'country': 'Virgin Islands (British)', 'population': 28514},\n",
       " {'country': 'Virgin Islands (U.S.)', 'population': 114743},\n",
       " {'country': 'Brunei Darussalam', 'population': 411900},\n",
       " {'country': 'Bulgaria', 'population': 7153784},\n",
       " {'country': 'Burkina Faso', 'population': 19034397},\n",
       " {'country': 'Burundi', 'population': 10114505},\n",
       " {'country': 'Cambodia', 'population': 15626444},\n",
       " {'country': 'Cameroon', 'population': 22709892},\n",
       " {'country': 'Canada', 'population': 36155487},\n",
       " {'country': 'Cabo Verde', 'population': 531239},\n",
       " {'country': 'Cayman Islands', 'population': 58238},\n",
       " {'country': 'Central African Republic', 'population': 4998000},\n",
       " {'country': 'Chad', 'population': 14497000},\n",
       " {'country': 'Chile', 'population': 18191900},\n",
       " {'country': 'China', 'population': 1377422166},\n",
       " {'country': 'Christmas Island', 'population': 2072},\n",
       " {'country': 'Cocos (Keeling) Islands', 'population': 550},\n",
       " {'country': 'Colombia', 'population': 48759958},\n",
       " {'country': 'Comoros', 'population': 806153},\n",
       " {'country': 'Congo', 'population': 4741000},\n",
       " {'country': 'Congo (Democratic Republic of the)', 'population': 85026000},\n",
       " {'country': 'Cook Islands', 'population': 18100},\n",
       " {'country': 'Costa Rica', 'population': 4890379},\n",
       " {'country': 'Croatia', 'population': 4190669},\n",
       " {'country': 'Cuba', 'population': 11239004},\n",
       " {'country': 'Curaçao', 'population': 154843},\n",
       " {'country': 'Cyprus', 'population': 847000},\n",
       " {'country': 'Czech Republic', 'population': 10558524},\n",
       " {'country': 'Denmark', 'population': 5717014},\n",
       " {'country': 'Djibouti', 'population': 900000},\n",
       " {'country': 'Dominica', 'population': 71293},\n",
       " {'country': 'Dominican Republic', 'population': 10075045},\n",
       " {'country': 'Ecuador', 'population': 16545799},\n",
       " {'country': 'Egypt', 'population': 91290000},\n",
       " {'country': 'El Salvador', 'population': 6520675},\n",
       " {'country': 'Equatorial Guinea', 'population': 1222442},\n",
       " {'country': 'Eritrea', 'population': 5352000},\n",
       " {'country': 'Estonia', 'population': 1315944},\n",
       " {'country': 'Ethiopia', 'population': 92206005},\n",
       " {'country': 'Falkland Islands (Malvinas)', 'population': 2563},\n",
       " {'country': 'Faroe Islands', 'population': 49376},\n",
       " {'country': 'Fiji', 'population': 867000},\n",
       " {'country': 'Finland', 'population': 5491817},\n",
       " {'country': 'France', 'population': 66710000},\n",
       " {'country': 'French Guiana', 'population': 254541},\n",
       " {'country': 'French Polynesia', 'population': 271800},\n",
       " {'country': 'French Southern Territories', 'population': 140},\n",
       " {'country': 'Gabon', 'population': 1802278},\n",
       " {'country': 'Gambia', 'population': 1882450},\n",
       " {'country': 'Georgia', 'population': 3720400},\n",
       " {'country': 'Germany', 'population': 81770900},\n",
       " {'country': 'Ghana', 'population': 27670174},\n",
       " {'country': 'Gibraltar', 'population': 33140},\n",
       " {'country': 'Greece', 'population': 10858018},\n",
       " {'country': 'Greenland', 'population': 55847},\n",
       " {'country': 'Grenada', 'population': 103328},\n",
       " {'country': 'Guadeloupe', 'population': 400132},\n",
       " {'country': 'Guam', 'population': 184200},\n",
       " {'country': 'Guatemala', 'population': 16176133},\n",
       " {'country': 'Guernsey', 'population': 62999},\n",
       " {'country': 'Guinea', 'population': 12947000},\n",
       " {'country': 'Guinea-Bissau', 'population': 1547777},\n",
       " {'country': 'Guyana', 'population': 746900},\n",
       " {'country': 'Haiti', 'population': 11078033},\n",
       " {'country': 'Heard Island and McDonald Islands', 'population': 0},\n",
       " {'country': 'Holy See', 'population': 451},\n",
       " {'country': 'Honduras', 'population': 8576532},\n",
       " {'country': 'Hong Kong', 'population': 7324300},\n",
       " {'country': 'Hungary', 'population': 9823000},\n",
       " {'country': 'Iceland', 'population': 334300},\n",
       " {'country': 'India', 'population': 1295210000},\n",
       " {'country': 'Indonesia', 'population': 258705000},\n",
       " {'country': \"Côte d'Ivoire\", 'population': 22671331},\n",
       " {'country': 'Iran (Islamic Republic of)', 'population': 79369900},\n",
       " {'country': 'Iraq', 'population': 37883543},\n",
       " {'country': 'Ireland', 'population': 6378000},\n",
       " {'country': 'Isle of Man', 'population': 84497},\n",
       " {'country': 'Israel', 'population': 8527400},\n",
       " {'country': 'Italy', 'population': 60665551},\n",
       " {'country': 'Jamaica', 'population': 2723246},\n",
       " {'country': 'Japan', 'population': 126960000},\n",
       " {'country': 'Jersey', 'population': 100800},\n",
       " {'country': 'Jordan', 'population': 9531712},\n",
       " {'country': 'Kazakhstan', 'population': 17753200},\n",
       " {'country': 'Kenya', 'population': 47251000},\n",
       " {'country': 'Kiribati', 'population': 113400},\n",
       " {'country': 'Kuwait', 'population': 4183658},\n",
       " {'country': 'Kyrgyzstan', 'population': 6047800},\n",
       " {'country': \"Lao People's Democratic Republic\", 'population': 6492400},\n",
       " {'country': 'Latvia', 'population': 1961600},\n",
       " {'country': 'Lebanon', 'population': 5988000},\n",
       " {'country': 'Lesotho', 'population': 1894194},\n",
       " {'country': 'Liberia', 'population': 4615000},\n",
       " {'country': 'Libya', 'population': 6385000},\n",
       " {'country': 'Liechtenstein', 'population': 37623},\n",
       " {'country': 'Lithuania', 'population': 2872294},\n",
       " {'country': 'Luxembourg', 'population': 576200},\n",
       " {'country': 'Macao', 'population': 649100},\n",
       " {'country': 'Macedonia (the former Yugoslav Republic of)',\n",
       "  'population': 2058539},\n",
       " {'country': 'Madagascar', 'population': 22434363},\n",
       " {'country': 'Malawi', 'population': 16832910},\n",
       " {'country': 'Malaysia', 'population': 31405416},\n",
       " {'country': 'Maldives', 'population': 344023},\n",
       " {'country': 'Mali', 'population': 18135000},\n",
       " {'country': 'Malta', 'population': 425384},\n",
       " {'country': 'Marshall Islands', 'population': 54880},\n",
       " {'country': 'Martinique', 'population': 378243},\n",
       " {'country': 'Mauritania', 'population': 3718678},\n",
       " {'country': 'Mauritius', 'population': 1262879},\n",
       " {'country': 'Mayotte', 'population': 226915},\n",
       " {'country': 'Mexico', 'population': 122273473},\n",
       " {'country': 'Micronesia (Federated States of)', 'population': 102800},\n",
       " {'country': 'Moldova (Republic of)', 'population': 3553100},\n",
       " {'country': 'Monaco', 'population': 38400},\n",
       " {'country': 'Mongolia', 'population': 3093100},\n",
       " {'country': 'Montenegro', 'population': 621810},\n",
       " {'country': 'Montserrat', 'population': 4922},\n",
       " {'country': 'Morocco', 'population': 33337529},\n",
       " {'country': 'Mozambique', 'population': 26423700},\n",
       " {'country': 'Myanmar', 'population': 51419420},\n",
       " {'country': 'Namibia', 'population': 2324388},\n",
       " {'country': 'Nauru', 'population': 10084},\n",
       " {'country': 'Nepal', 'population': 28431500},\n",
       " {'country': 'Netherlands', 'population': 17019800},\n",
       " {'country': 'New Caledonia', 'population': 268767},\n",
       " {'country': 'New Zealand', 'population': 4697854},\n",
       " {'country': 'Nicaragua', 'population': 6262703},\n",
       " {'country': 'Niger', 'population': 20715000},\n",
       " {'country': 'Nigeria', 'population': 186988000},\n",
       " {'country': 'Niue', 'population': 1470},\n",
       " {'country': 'Norfolk Island', 'population': 2302},\n",
       " {'country': \"Korea (Democratic People's Republic of)\",\n",
       "  'population': 25281000},\n",
       " {'country': 'Northern Mariana Islands', 'population': 56940},\n",
       " {'country': 'Norway', 'population': 5223256},\n",
       " {'country': 'Oman', 'population': 4420133},\n",
       " {'country': 'Pakistan', 'population': 194125062},\n",
       " {'country': 'Palau', 'population': 17950},\n",
       " {'country': 'Palestine, State of', 'population': 4682467},\n",
       " {'country': 'Panama', 'population': 3814672},\n",
       " {'country': 'Papua New Guinea', 'population': 8083700},\n",
       " {'country': 'Paraguay', 'population': 6854536},\n",
       " {'country': 'Peru', 'population': 31488700},\n",
       " {'country': 'Philippines', 'population': 103279800},\n",
       " {'country': 'Pitcairn', 'population': 56},\n",
       " {'country': 'Poland', 'population': 38437239},\n",
       " {'country': 'Portugal', 'population': 10374822},\n",
       " {'country': 'Puerto Rico', 'population': 3474182},\n",
       " {'country': 'Qatar', 'population': 2587564},\n",
       " {'country': 'Republic of Kosovo', 'population': 1733842},\n",
       " {'country': 'Réunion', 'population': 840974},\n",
       " {'country': 'Romania', 'population': 19861408},\n",
       " {'country': 'Russian Federation', 'population': 146599183},\n",
       " {'country': 'Rwanda', 'population': 11553188},\n",
       " {'country': 'Saint Barthélemy', 'population': 9417},\n",
       " {'country': 'Saint Helena, Ascension and Tristan da Cunha',\n",
       "  'population': 4255},\n",
       " {'country': 'Saint Kitts and Nevis', 'population': 46204},\n",
       " {'country': 'Saint Lucia', 'population': 186000},\n",
       " {'country': 'Saint Martin (French part)', 'population': 36979},\n",
       " {'country': 'Saint Pierre and Miquelon', 'population': 6069},\n",
       " {'country': 'Saint Vincent and the Grenadines', 'population': 109991},\n",
       " {'country': 'Samoa', 'population': 194899},\n",
       " {'country': 'San Marino', 'population': 33005},\n",
       " {'country': 'Sao Tome and Principe', 'population': 187356},\n",
       " {'country': 'Saudi Arabia', 'population': 32248200},\n",
       " {'country': 'Senegal', 'population': 14799859},\n",
       " {'country': 'Serbia', 'population': 7076372},\n",
       " {'country': 'Seychelles', 'population': 91400},\n",
       " {'country': 'Sierra Leone', 'population': 7075641},\n",
       " {'country': 'Singapore', 'population': 5535000},\n",
       " {'country': 'Sint Maarten (Dutch part)', 'population': 38247},\n",
       " {'country': 'Slovakia', 'population': 5426252},\n",
       " {'country': 'Slovenia', 'population': 2064188},\n",
       " {'country': 'Solomon Islands', 'population': 642000},\n",
       " {'country': 'Somalia', 'population': 11079000},\n",
       " {'country': 'South Africa', 'population': 55653654},\n",
       " {'country': 'South Georgia and the South Sandwich Islands', 'population': 30},\n",
       " {'country': 'Korea (Republic of)', 'population': 50801405},\n",
       " {'country': 'South Sudan', 'population': 12131000},\n",
       " {'country': 'Spain', 'population': 46438422},\n",
       " {'country': 'Sri Lanka', 'population': 20966000},\n",
       " {'country': 'Sudan', 'population': 39598700},\n",
       " {'country': 'Suriname', 'population': 541638},\n",
       " {'country': 'Svalbard and Jan Mayen', 'population': 2562},\n",
       " {'country': 'Swaziland', 'population': 1132657},\n",
       " {'country': 'Sweden', 'population': 9894888},\n",
       " {'country': 'Switzerland', 'population': 8341600},\n",
       " {'country': 'Syrian Arab Republic', 'population': 18564000},\n",
       " {'country': 'Taiwan', 'population': 23503349},\n",
       " {'country': 'Tajikistan', 'population': 8593600},\n",
       " {'country': 'Tanzania, United Republic of', 'population': 55155000},\n",
       " {'country': 'Thailand', 'population': 65327652},\n",
       " {'country': 'Timor-Leste', 'population': 1167242},\n",
       " {'country': 'Togo', 'population': 7143000},\n",
       " {'country': 'Tokelau', 'population': 1411},\n",
       " {'country': 'Tonga', 'population': 103252},\n",
       " {'country': 'Trinidad and Tobago', 'population': 1349667},\n",
       " {'country': 'Tunisia', 'population': 11154400},\n",
       " {'country': 'Turkey', 'population': 78741053},\n",
       " {'country': 'Turkmenistan', 'population': 4751120},\n",
       " {'country': 'Turks and Caicos Islands', 'population': 31458},\n",
       " {'country': 'Tuvalu', 'population': 10640},\n",
       " {'country': 'Uganda', 'population': 33860700},\n",
       " {'country': 'Ukraine', 'population': 42692393},\n",
       " {'country': 'United Arab Emirates', 'population': 9856000},\n",
       " {'country': 'United Kingdom of Great Britain and Northern Ireland',\n",
       "  'population': 65110000},\n",
       " {'country': 'United States of America', 'population': 323947000},\n",
       " {'country': 'Uruguay', 'population': 3480222},\n",
       " {'country': 'Uzbekistan', 'population': 31576400},\n",
       " {'country': 'Vanuatu', 'population': 277500},\n",
       " {'country': 'Venezuela (Bolivarian Republic of)', 'population': 31028700},\n",
       " {'country': 'Viet Nam', 'population': 92700000},\n",
       " {'country': 'Wallis and Futuna', 'population': 11750},\n",
       " {'country': 'Western Sahara', 'population': 510713},\n",
       " {'country': 'Yemen', 'population': 27478000},\n",
       " {'country': 'Zambia', 'population': 15933883},\n",
       " {'country': 'Zimbabwe', 'population': 14240168}]"
      ]
     },
     "execution_count": 264,
     "metadata": {},
     "output_type": "execute_result"
    }
   ],
   "source": [
    "mostPopulatedCtr('countries_data.json')"
   ]
  },
  {
   "cell_type": "code",
   "execution_count": 325,
   "metadata": {},
   "outputs": [],
   "source": [
    "def mostFreqWords(filename, no):\n",
    "    with open(filename) as data:\n",
    "        dataFile = data.read().splitlines()\n",
    "    listHold = []\n",
    "    for i in dataFile:\n",
    "        if i == '':\n",
    "            continue\n",
    "        listHold += list(i.split(' '))\n",
    "    output = []\n",
    "    for n in set(listHold):\n",
    "        output += [(listHold.count(n), n)]\n",
    "    return (sorted(output, reverse=True)[:no])"
   ]
  },
  {
   "cell_type": "code",
   "execution_count": 326,
   "metadata": {},
   "outputs": [
    {
     "data": {
      "text/plain": [
       "[(120, 'the'),\n",
       " (107, 'and'),\n",
       " (81, 'of'),\n",
       " (66, 'to'),\n",
       " (58, 'our'),\n",
       " (50, 'we'),\n",
       " (48, 'a'),\n",
       " (47, 'that'),\n",
       " (36, 'is'),\n",
       " (23, '-')]"
      ]
     },
     "execution_count": 326,
     "metadata": {},
     "output_type": "execute_result"
    }
   ],
   "source": [
    "mostFreqWords('obama_speech.txt', 10)"
   ]
  }
 ],
 "metadata": {
  "kernelspec": {
   "display_name": "Python 3",
   "language": "python",
   "name": "python3"
  },
  "language_info": {
   "codemirror_mode": {
    "name": "ipython",
    "version": 3
   },
   "file_extension": ".py",
   "mimetype": "text/x-python",
   "name": "python",
   "nbconvert_exporter": "python",
   "pygments_lexer": "ipython3",
   "version": "3.7.3"
  }
 },
 "nbformat": 4,
 "nbformat_minor": 2
}
