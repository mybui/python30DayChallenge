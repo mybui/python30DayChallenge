{
 "cells": [
  {
   "cell_type": "markdown",
   "metadata": {},
   "source": [
    "1. What is the most frequent word in the following paragraph?"
   ]
  },
  {
   "cell_type": "code",
   "execution_count": 61,
   "metadata": {},
   "outputs": [],
   "source": [
    "paragraph = 'I love teaching. If you do not love teaching what else can you love. I love Python if you do not love something which can give you all the capabilities to develop an application what else can you love.'"
   ]
  },
  {
   "cell_type": "code",
   "execution_count": 64,
   "metadata": {},
   "outputs": [],
   "source": [
    "import re\n",
    "\n",
    "listToDo = []\n",
    "for i in set(re.findall('[A-Za-z]+', paragraph)):\n",
    "    listToDo.append((paragraph.count(i), i))"
   ]
  },
  {
   "cell_type": "code",
   "execution_count": 65,
   "metadata": {},
   "outputs": [
    {
     "data": {
      "text/plain": [
       "[(6, 'love'),\n",
       " (5, 'you'),\n",
       " (4, 'an'),\n",
       " (3, 'can'),\n",
       " (3, 'I'),\n",
       " (2, 'what'),\n",
       " (2, 'teaching'),\n",
       " (2, 'not'),\n",
       " (2, 'else'),\n",
       " (2, 'do'),\n",
       " (1, 'which'),\n",
       " (1, 'to'),\n",
       " (1, 'the'),\n",
       " (1, 'something'),\n",
       " (1, 'if'),\n",
       " (1, 'give'),\n",
       " (1, 'develop'),\n",
       " (1, 'capabilities'),\n",
       " (1, 'application'),\n",
       " (1, 'all'),\n",
       " (1, 'Python'),\n",
       " (1, 'If')]"
      ]
     },
     "execution_count": 65,
     "metadata": {},
     "output_type": "execute_result"
    }
   ],
   "source": [
    "sorted(listToDo, reverse=True)"
   ]
  },
  {
   "cell_type": "markdown",
   "metadata": {},
   "source": [
    "4. Clean the following text. After cleaning, count three most frequent words in the string."
   ]
  },
  {
   "cell_type": "code",
   "execution_count": 126,
   "metadata": {},
   "outputs": [],
   "source": [
    "sentence = '''%I $am@% a %tea@cher%, &and& I lo%#ve %tea@ching%;. There $is nothing; &as& mo@re rewarding as educa@ting &and& @emp%o@wering peo@ple. ;I found tea@ching m%o@re interesting tha@n any other %jo@bs. %Do@es thi%s mo@tivate yo@u to be a tea@cher!?'''\n"
   ]
  },
  {
   "cell_type": "code",
   "execution_count": 136,
   "metadata": {},
   "outputs": [],
   "source": [
    "def cleanText(string):\n",
    "    saved = re.sub(r'\\$', '', string)\n",
    "    for i in [r'\\@', r'\\&', r'\\%', r'\\#', r'\\;']:\n",
    "        saved = re.sub(i, '', saved)\n",
    "    return saved"
   ]
  },
  {
   "cell_type": "code",
   "execution_count": 152,
   "metadata": {},
   "outputs": [
    {
     "data": {
      "text/plain": [
       "'I am a teacher, and I love teaching. There is nothing as more rewarding as educating and empowering people. I found teaching more interesting than any other jobs. Does this motivate you to be a teacher!?'"
      ]
     },
     "execution_count": 152,
     "metadata": {},
     "output_type": "execute_result"
    }
   ],
   "source": [
    "cleanText(sentence)"
   ]
  },
  {
   "cell_type": "code",
   "execution_count": 179,
   "metadata": {},
   "outputs": [],
   "source": [
    "def mostFreqWords(string):\n",
    "    listToDo = []\n",
    "    for i in set(re.findall('[A-Za-z]+', string)):\n",
    "        listToDo.append((string.count(i), i))\n",
    "    return sorted(listToDo, reverse=True)"
   ]
  },
  {
   "cell_type": "code",
   "execution_count": 180,
   "metadata": {},
   "outputs": [
    {
     "data": {
      "text/plain": [
       "[(16, 'a'),\n",
       " (3, 'I'),\n",
       " (2, 'teaching'),\n",
       " (2, 'teacher'),\n",
       " (2, 'more'),\n",
       " (2, 'is'),\n",
       " (2, 'as'),\n",
       " (2, 'and'),\n",
       " (1, 'you'),\n",
       " (1, 'to'),\n",
       " (1, 'this'),\n",
       " (1, 'than'),\n",
       " (1, 'rewarding'),\n",
       " (1, 'people'),\n",
       " (1, 'other'),\n",
       " (1, 'nothing'),\n",
       " (1, 'motivate'),\n",
       " (1, 'love'),\n",
       " (1, 'jobs'),\n",
       " (1, 'interesting'),\n",
       " (1, 'found'),\n",
       " (1, 'empowering'),\n",
       " (1, 'educating'),\n",
       " (1, 'be'),\n",
       " (1, 'any'),\n",
       " (1, 'am'),\n",
       " (1, 'There'),\n",
       " (1, 'Does')]"
      ]
     },
     "execution_count": 180,
     "metadata": {},
     "output_type": "execute_result"
    }
   ],
   "source": [
    "mostFreqWords((cleanText(sentence)))"
   ]
  },
  {
   "cell_type": "code",
   "execution_count": null,
   "metadata": {},
   "outputs": [],
   "source": []
  }
 ],
 "metadata": {
  "kernelspec": {
   "display_name": "Python 3",
   "language": "python",
   "name": "python3"
  },
  "language_info": {
   "codemirror_mode": {
    "name": "ipython",
    "version": 3
   },
   "file_extension": ".py",
   "mimetype": "text/x-python",
   "name": "python",
   "nbconvert_exporter": "python",
   "pygments_lexer": "ipython3",
   "version": "3.7.3"
  }
 },
 "nbformat": 4,
 "nbformat_minor": 2
}
