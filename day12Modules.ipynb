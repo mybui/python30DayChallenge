{
 "cells": [
  {
   "cell_type": "code",
   "execution_count": 1,
   "metadata": {},
   "outputs": [],
   "source": [
    "import random"
   ]
  },
  {
   "cell_type": "code",
   "execution_count": 2,
   "metadata": {},
   "outputs": [],
   "source": [
    "import string"
   ]
  },
  {
   "cell_type": "markdown",
   "metadata": {},
   "source": [
    "2. Declare a function name user_id_gen_by_user.\n",
    "It doesn’t take any parameter but it takes two inputs using input(). \n",
    "One of the input is the number of characters and the second input is the number of ids which are supposed to be generated."
   ]
  },
  {
   "cell_type": "code",
   "execution_count": 56,
   "metadata": {},
   "outputs": [],
   "source": [
    "def userIdGenByUser():\n",
    "    noChar = input('#character: ')\n",
    "    noId = input('#ID: ')\n",
    "    seq = list(range(0, 10)) + list(string.ascii_letters)\n",
    "    i = 0\n",
    "    while i != int(noId):\n",
    "        output = ''\n",
    "        for n in random.sample(seq, k=int(noChar)):\n",
    "            output += str(n)\n",
    "        i += 1\n",
    "        print(output)"
   ]
  },
  {
   "cell_type": "code",
   "execution_count": null,
   "metadata": {},
   "outputs": [],
   "source": [
    "userIdGenByUser()"
   ]
  },
  {
   "cell_type": "raw",
   "metadata": {},
   "source": [
    "#character: 5\n",
    "#ID: 12\n",
    "eEY7F\n",
    "mR87J\n",
    "ptYV6\n",
    "5AZKW\n",
    "mkVB3\n",
    "HVFG8\n",
    "AIL1q\n",
    "My9hc\n",
    "reqmv\n",
    "35AnP\n",
    "SwTkB\n",
    "UYqxJ"
   ]
  },
  {
   "cell_type": "markdown",
   "metadata": {},
   "source": [
    "5. Write a function generateColors which can generate any number of hexa or rgb colors"
   ]
  },
  {
   "cell_type": "code",
   "execution_count": 75,
   "metadata": {},
   "outputs": [],
   "source": [
    "def generateColors():\n",
    "    typeCo = input('hexa or rgb: ')\n",
    "    noCo = input('#color: ')\n",
    "    i = 0\n",
    "    if typeCo == 'hexa':\n",
    "        while i != int(noCo):\n",
    "            print('#' + str(hex(random.randint(0,16777215)))[2:])\n",
    "            i += 1\n",
    "    elif typeCo == 'rgb':\n",
    "        while i != int(noCo):\n",
    "            print('rgb(' + str(random.randint(0,255)) + ', ' + str(random.randint(0,255)) + ', ' + str(random.randint(0,255)) + ')')\n",
    "            i += 1\n",
    "    else:\n",
    "        return 'Wrong type of color'"
   ]
  },
  {
   "cell_type": "code",
   "execution_count": 80,
   "metadata": {},
   "outputs": [
    {
     "name": "stdout",
     "output_type": "stream",
     "text": [
      "hexa or rgb: rgb\n",
      "#color: 5\n",
      "rgb(57, 161, 147)\n",
      "rgb(129, 67, 55)\n",
      "rgb(154, 224, 199)\n",
      "rgb(104, 244, 29)\n",
      "rgb(145, 152, 244)\n"
     ]
    }
   ],
   "source": [
    "generateColors()"
   ]
  },
  {
   "cell_type": "raw",
   "metadata": {},
   "source": [
    "hexa or rgb: rgb\n",
    "#color: 3\n",
    "rgb(32, 122, 236)\n",
    "rgb(179, 83, 202)\n",
    "rgb(18, 54, 133)"
   ]
  },
  {
   "cell_type": "raw",
   "metadata": {},
   "source": [
    "hexa or rgb: hexa\n",
    "#color: 3\n",
    "#8b0f55\n",
    "#ac00b0\n",
    "#14871e"
   ]
  },
  {
   "cell_type": "markdown",
   "metadata": {},
   "source": [
    "6. Call your function shuffleList, it takes a list as a parameter and it returns a shuffled list"
   ]
  },
  {
   "cell_type": "code",
   "execution_count": 86,
   "metadata": {},
   "outputs": [],
   "source": [
    "def shuffleList(listToDo):\n",
    "    return random.sample(listToDo, k=len(listToDo))"
   ]
  },
  {
   "cell_type": "code",
   "execution_count": 92,
   "metadata": {},
   "outputs": [
    {
     "data": {
      "text/plain": [
       "[10, 4, 7, 2, 3, 0, 8, 5, 1, 6, 9]"
      ]
     },
     "execution_count": 92,
     "metadata": {},
     "output_type": "execute_result"
    }
   ],
   "source": [
    "shuffleList(list(range(0, 11)))"
   ]
  }
 ],
 "metadata": {
  "kernelspec": {
   "display_name": "Python 3",
   "language": "python",
   "name": "python3"
  },
  "language_info": {
   "codemirror_mode": {
    "name": "ipython",
    "version": 3
   },
   "file_extension": ".py",
   "mimetype": "text/x-python",
   "name": "python",
   "nbconvert_exporter": "python",
   "pygments_lexer": "ipython3",
   "version": "3.7.3"
  }
 },
 "nbformat": 4,
 "nbformat_minor": 2
}
